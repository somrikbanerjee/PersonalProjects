{
 "cells": [
  {
   "cell_type": "code",
   "execution_count": 16,
   "metadata": {},
   "outputs": [],
   "source": [
    "import numpy as np"
   ]
  },
  {
   "cell_type": "code",
   "execution_count": 12,
   "metadata": {},
   "outputs": [],
   "source": [
    "def karatsuba(x, y):\n",
    "\n",
    "    if x < 10 or y < 10:\n",
    "        return x * y\n",
    "    \n",
    "    else:\n",
    "        n = max(len(str(x)), len(str(y)))\n",
    "        half = n // 2\n",
    "        a = x // (10 ** half)\n",
    "        b = x % (10 ** half)\n",
    "        c = y // (10 ** half)\n",
    "        d = y % (10 ** half)\n",
    "\n",
    "        ac = karatsuba(a, c)\n",
    "        bd = karatsuba(b, d)\n",
    "        ad_plus_bc = karatsuba(a + b, c + d) - ac - bd\n",
    "        \n",
    "        return ((10 ** (2 * half)) * ac) + ((10 ** half) * ad_plus_bc) + bd\n"
   ]
  },
  {
   "cell_type": "code",
   "execution_count": 38,
   "metadata": {},
   "outputs": [],
   "source": [
    "## Test Cases\n",
    "for _ in range(1000):\n",
    "    n = np.random.randint(15)\n",
    "    x = np.random.randint(10 ** n, int('9' * (n+1)))\n",
    "    y = np.random.randint(10 ** n, int('9' * (n+1)))\n",
    "    if karatsuba(x, y) != x * y:\n",
    "        print(x, y)\n",
    "        break\n"
   ]
  }
 ],
 "metadata": {
  "kernelspec": {
   "display_name": "Python 3",
   "language": "python",
   "name": "python3"
  },
  "language_info": {
   "codemirror_mode": {
    "name": "ipython",
    "version": 3
   },
   "file_extension": ".py",
   "mimetype": "text/x-python",
   "name": "python",
   "nbconvert_exporter": "python",
   "pygments_lexer": "ipython3",
   "version": "3.12.1"
  }
 },
 "nbformat": 4,
 "nbformat_minor": 2
}

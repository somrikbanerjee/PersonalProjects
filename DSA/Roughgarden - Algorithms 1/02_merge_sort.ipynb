{
 "cells": [
  {
   "cell_type": "code",
   "execution_count": 1,
   "metadata": {},
   "outputs": [],
   "source": [
    "import numpy as np"
   ]
  },
  {
   "cell_type": "code",
   "execution_count": 2,
   "metadata": {},
   "outputs": [],
   "source": [
    "def merge_sort(arr):\n",
    "\n",
    "    n = len(arr)\n",
    "    if n == 1:\n",
    "        return arr\n",
    "    else:\n",
    "        left = merge_sort(arr[ : n//2])\n",
    "        right = merge_sort(arr[n // 2 : ])\n",
    "        sorted_arr = []\n",
    "        i = j = 0\n",
    "        while i < len(left) and j < len(right):\n",
    "            if left[i] < right[j]:\n",
    "                sorted_arr.append(left[i])\n",
    "                i += 1\n",
    "            else:\n",
    "                sorted_arr.append(right[j])\n",
    "                j += 1\n",
    "        if i == len(left):\n",
    "            sorted_arr.extend(right[j:])\n",
    "        else:\n",
    "            sorted_arr.extend(left[i:])\n",
    "    \n",
    "        return sorted_arr\n"
   ]
  },
  {
   "cell_type": "code",
   "execution_count": 3,
   "metadata": {},
   "outputs": [],
   "source": [
    "for _ in range(1000):\n",
    "    arr = np.random.randint(1, 100000, 10000)\n",
    "    assert merge_sort(arr) == sorted(arr)"
   ]
  }
 ],
 "metadata": {
  "kernelspec": {
   "display_name": "Python 3",
   "language": "python",
   "name": "python3"
  },
  "language_info": {
   "codemirror_mode": {
    "name": "ipython",
    "version": 3
   },
   "file_extension": ".py",
   "mimetype": "text/x-python",
   "name": "python",
   "nbconvert_exporter": "python",
   "pygments_lexer": "ipython3",
   "version": "3.12.1"
  }
 },
 "nbformat": 4,
 "nbformat_minor": 2
}
